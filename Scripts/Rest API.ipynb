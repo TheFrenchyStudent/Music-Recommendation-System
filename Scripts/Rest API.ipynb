{
 "cells": [
  {
   "cell_type": "markdown",
   "metadata": {},
   "source": [
    "# Recommendation API"
   ]
  },
  {
   "cell_type": "code",
   "execution_count": 2,
   "metadata": {},
   "outputs": [
    {
     "data": {
      "text/html": [
       "<div>\n",
       "<style scoped>\n",
       "    .dataframe tbody tr th:only-of-type {\n",
       "        vertical-align: middle;\n",
       "    }\n",
       "\n",
       "    .dataframe tbody tr th {\n",
       "        vertical-align: top;\n",
       "    }\n",
       "\n",
       "    .dataframe thead th {\n",
       "        text-align: right;\n",
       "    }\n",
       "</style>\n",
       "<table border=\"1\" class=\"dataframe\">\n",
       "  <thead>\n",
       "    <tr style=\"text-align: right;\">\n",
       "      <th></th>\n",
       "      <th>id</th>\n",
       "      <th>name</th>\n",
       "      <th>url</th>\n",
       "      <th>pictureURL</th>\n",
       "    </tr>\n",
       "  </thead>\n",
       "  <tbody>\n",
       "    <tr>\n",
       "      <th>0</th>\n",
       "      <td>1</td>\n",
       "      <td>MALICE MIZER</td>\n",
       "      <td>http://www.last.fm/music/MALICE+MIZER</td>\n",
       "      <td>http://userserve-ak.last.fm/serve/252/10808.jpg</td>\n",
       "    </tr>\n",
       "    <tr>\n",
       "      <th>1</th>\n",
       "      <td>2</td>\n",
       "      <td>Diary of Dreams</td>\n",
       "      <td>http://www.last.fm/music/Diary+of+Dreams</td>\n",
       "      <td>http://userserve-ak.last.fm/serve/252/3052066.jpg</td>\n",
       "    </tr>\n",
       "    <tr>\n",
       "      <th>2</th>\n",
       "      <td>3</td>\n",
       "      <td>Carpathian Forest</td>\n",
       "      <td>http://www.last.fm/music/Carpathian+Forest</td>\n",
       "      <td>http://userserve-ak.last.fm/serve/252/40222717...</td>\n",
       "    </tr>\n",
       "    <tr>\n",
       "      <th>3</th>\n",
       "      <td>4</td>\n",
       "      <td>Moi dix Mois</td>\n",
       "      <td>http://www.last.fm/music/Moi+dix+Mois</td>\n",
       "      <td>http://userserve-ak.last.fm/serve/252/54697835...</td>\n",
       "    </tr>\n",
       "    <tr>\n",
       "      <th>4</th>\n",
       "      <td>5</td>\n",
       "      <td>Bella Morte</td>\n",
       "      <td>http://www.last.fm/music/Bella+Morte</td>\n",
       "      <td>http://userserve-ak.last.fm/serve/252/14789013...</td>\n",
       "    </tr>\n",
       "  </tbody>\n",
       "</table>\n",
       "</div>"
      ],
      "text/plain": [
       "   id               name                                         url  \\\n",
       "0   1       MALICE MIZER       http://www.last.fm/music/MALICE+MIZER   \n",
       "1   2    Diary of Dreams    http://www.last.fm/music/Diary+of+Dreams   \n",
       "2   3  Carpathian Forest  http://www.last.fm/music/Carpathian+Forest   \n",
       "3   4       Moi dix Mois       http://www.last.fm/music/Moi+dix+Mois   \n",
       "4   5        Bella Morte        http://www.last.fm/music/Bella+Morte   \n",
       "\n",
       "                                          pictureURL  \n",
       "0    http://userserve-ak.last.fm/serve/252/10808.jpg  \n",
       "1  http://userserve-ak.last.fm/serve/252/3052066.jpg  \n",
       "2  http://userserve-ak.last.fm/serve/252/40222717...  \n",
       "3  http://userserve-ak.last.fm/serve/252/54697835...  \n",
       "4  http://userserve-ak.last.fm/serve/252/14789013...  "
      ]
     },
     "execution_count": 2,
     "metadata": {},
     "output_type": "execute_result"
    }
   ],
   "source": [
    "import pandas as pd\n",
    "db = pd.read_csv(\"predictions total2.csv\")\n",
    "names = pd.read_csv(\"Artists.dat\", sep=\"\\t\")\n",
    "names.head()"
   ]
  },
  {
   "cell_type": "code",
   "execution_count": 3,
   "metadata": {},
   "outputs": [
    {
     "data": {
      "text/plain": [
       "[{'id': 227, 'name': 'The Beatles', 'score': 9.13710199643455},\n",
       " {'id': 163, 'name': 'Pink Floyd', 'score': 8.478211115013991},\n",
       " {'id': 215, 'name': 'Jeff Buckley', 'score': 8.20765548699943},\n",
       " {'id': 418, 'name': 'Sigur Rós', 'score': 8.165749068759201},\n",
       " {'id': 181, 'name': 'Paradise Lost', 'score': 7.79305917680151}]"
      ]
     },
     "execution_count": 3,
     "metadata": {},
     "output_type": "execute_result"
    }
   ],
   "source": [
    "# Results of the function\n",
    "def recommended_artists(user_id, n_artists):\n",
    "    # Assumes a format with columns names as artistId, rows as users' ratings, with the first column being the userId\n",
    "    \n",
    "    \n",
    "    # Get the user's predictions, sorted. Only keeps the n artists best ranked.\n",
    "    ratings = db[db.iloc[:,0]==user_id].iloc[0].sort_values(ascending=False).reset_index()[1:n_artists+1]\n",
    "\n",
    "    # The artist IDs got turned into string inthe process\n",
    "    ratings.iloc[:,0] = ratings.iloc[:,0].astype(int)\n",
    "\n",
    "    # Fetches the artist names using their IDs\n",
    "    artist_names = [names[names.iloc[:,0] == ratings.iloc[i,0] ].iloc[0, 1] for i in range(len(ratings))]\n",
    "\n",
    "    return [{\"id\": ratings.iloc[i, 0], # ID retrieved in the ratings dataframe\n",
    "      \"name\": artist_names[i], # Name retrieved in the artist names list defined above\n",
    "      \"score\": ratings.iloc[i, 1]} # Score retrieved in the ratings dataframe\n",
    "     for i in range(n_artists)]\n",
    "\n",
    "recommended_artists(108, 5)"
   ]
  },
  {
   "cell_type": "code",
   "execution_count": null,
   "metadata": {},
   "outputs": [
    {
     "name": "stdout",
     "output_type": "stream",
     "text": [
      " * Serving Flask app \"__main__\" (lazy loading)\n",
      " * Environment: production\n",
      "   WARNING: Do not use the development server in a production environment.\n",
      "   Use a production WSGI server instead.\n",
      " * Debug mode: off\n"
     ]
    },
    {
     "name": "stderr",
     "output_type": "stream",
     "text": [
      " * Running on http://localhost:6000/ (Press CTRL+C to quit)\n",
      "127.0.0.1 - - [27/Feb/2019 21:14:15] \"POST /ratings/top HTTP/1.1\" 200 -\n"
     ]
    }
   ],
   "source": [
    "from flask import Flask, request, jsonify\n",
    "import pandas as pd\n",
    "\n",
    "path = \"\"\n",
    "db = pd.read_csv(path+\"predictions.csv\")\n",
    "names = pd.read_csv(path+\"Artists.dat\", sep=\"\\t\")\n",
    "\n",
    "## Initialize app\n",
    "app = Flask(__name__)\n",
    "\n",
    "\n",
    "### Endpoint - one route /ratings/top - one HTTP verb = POST\n",
    "@app.route(\"/ratings/top\", methods=[\"POST\"])\n",
    "def recommended_artists():\n",
    "    ## read the body of the API call\n",
    "    content = request.get_json()\n",
    "    \n",
    "    ## Interpretation of body\n",
    "    if \"userId\" in content and type(content[\"userId\"]) == int:\n",
    "        userId = content[\"userId\"]\n",
    "    else:\n",
    "        return \"'userId' is required and should be an Integer.\"\n",
    "        sys.exit(\"'userId' is required and should be an Integer.\")\n",
    "        \n",
    "    if \"count\" in content and type(content[\"count\"]) == int:\n",
    "        count = content[\"count\"]\n",
    "    else:\n",
    "        count = 5\n",
    "    \n",
    "    # Dunno why, without this step 'userId' turns out to be undefined\n",
    "    uid = userId\n",
    "    \n",
    "    \n",
    "    # Assumes a format with columns names as artistId, rows as users' ratings, with the first column being the userId\n",
    "    # Get the user's predictions, sorted. Only keeps n (count) artists best ranked.\n",
    "    ratings = db[db.iloc[:,0]==uid].iloc[0].sort_values(ascending=False).reset_index()[1:count+1]\n",
    "\n",
    "    # The artist IDs got turned into string inthe process\n",
    "    ratings.iloc[:,0] = ratings.iloc[:,0].astype(int)\n",
    "\n",
    "    # Fetches the artist names using their IDs\n",
    "    artist_names = [names[names.iloc[:,0] == ratings.iloc[i,0] ].iloc[0, 1] for i in range(len(ratings))]\n",
    "    \n",
    "    results = [{\"id\": int(ratings.iloc[i, 0]), # ID retrieved in the ratings dataframe, the int() avoid np.int32 format which cant' be jsonified\n",
    "      \"name\": artist_names[i], # Name retrieved in the artist names list defined above\n",
    "      \"score\": ratings.iloc[i, 1]} # Score retrieved in the ratings dataframe\n",
    "     for i in range(count)]\n",
    "    \n",
    "    return jsonify(results)\n",
    "\n",
    "### Put endpoint online\n",
    "if __name__ == '__main__':\n",
    "    app.run(host='localhost', port=6000)"
   ]
  }
 ],
 "metadata": {
  "kernelspec": {
   "display_name": "Python 3",
   "language": "python",
   "name": "python3"
  },
  "language_info": {
   "codemirror_mode": {
    "name": "ipython",
    "version": 3
   },
   "file_extension": ".py",
   "mimetype": "text/x-python",
   "name": "python",
   "nbconvert_exporter": "python",
   "pygments_lexer": "ipython3",
   "version": "3.7.0"
  }
 },
 "nbformat": 4,
 "nbformat_minor": 2
}
